{
 "cells": [
  {
   "cell_type": "markdown",
   "metadata": {},
   "source": [
    "# Day 4\n",
    "# Assignment-3\n",
    "# Question\n",
    "\n",
    "Print the fisrts Armstrong number in the range of 1042000 to 702648265 and exit the loop as soon as you encounter the first armstong number using while loop"
   ]
  },
  {
   "cell_type": "code",
   "execution_count": null,
   "metadata": {},
   "outputs": [
    {
     "name": "stdout",
     "output_type": "stream",
     "text": [
      "Enter lower range:  1042000\n",
      "Enter upper range:  702648265\n",
      "1741725 4210818 9800817 9926315 24678050 24678051 "
     ]
    }
   ],
   "source": [
    "lower = int(input(\"Enter lower range:  \"))\n",
    "upper = int(input(\"Enter upper range:  \"))\n",
    "for num in range(lower, upper + 1):\n",
    "    order = len(str(num))\n",
    "    sum = 0\n",
    "    \n",
    "    temp = num\n",
    "    while temp > 0:\n",
    "        digit = temp % 10\n",
    "        sum += digit ** order \n",
    "        temp //= 10\n",
    "    if num == sum:\n",
    "            print(num, end = ' ')"
   ]
  }
 ],
 "metadata": {
  "kernelspec": {
   "display_name": "Python 3",
   "language": "python",
   "name": "python3"
  },
  "language_info": {
   "codemirror_mode": {
    "name": "ipython",
    "version": 3
   },
   "file_extension": ".py",
   "mimetype": "text/x-python",
   "name": "python",
   "nbconvert_exporter": "python",
   "pygments_lexer": "ipython3",
   "version": "3.8.3"
  }
 },
 "nbformat": 4,
 "nbformat_minor": 4
}
